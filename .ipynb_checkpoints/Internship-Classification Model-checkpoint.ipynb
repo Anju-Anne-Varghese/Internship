{
 "cells": [
  {
   "cell_type": "code",
   "execution_count": null,
   "id": "08755bb0",
   "metadata": {},
   "outputs": [],
   "source": [
    "# importing libraries\n",
    "import warnings\n",
    "warnings.simplefilter(action='ignore', category=FutureWarning)\n",
    "import pandas as pd\n",
    "import numpy as np\n",
    "import matplotlib.pyplot as plt\n",
    "import seaborn as sns\n",
    "%matplotlib inline\n",
    "from collections import Counter\n",
    "from sklearn.preprocessing import StandardScaler\n",
    "from sklearn.model_selection import train_test_split\n",
    "from sklearn.model_selection import StratifiedKFold\n",
    "from sklearn.model_selection import cross_val_score\n",
    "from sklearn.model_selection import GridSearchCV\n",
    "from sklearn.tree import DecisionTreeClassifier\n",
    "from sklearn. metrics import confusion_matrix, precision_score, recall_score, f1_score, accuracy_score, classification_report, hamming_loss\n",
    "import pickle"
   ]
  },
  {
   "cell_type": "code",
   "execution_count": null,
   "id": "d6e2c773",
   "metadata": {},
   "outputs": [],
   "source": [
    "# loading dataset into python environment\n",
    "data = pd.read_excel('webmdexcel.xlsx', dtype = {'Age': str, 'Condition': str, 'Date': str, 'Drug': str, 'DrugId': int, 'EaseofUse': 'int8', 'Effectiveness': 'int8', 'Reviews': str, 'Satisfaction': 'int8', 'Sex': str, 'Sides': str, 'UsefulCount': 'int16'})"
   ]
  },
  {
   "cell_type": "code",
   "execution_count": null,
   "id": "8a70fc0c",
   "metadata": {},
   "outputs": [],
   "source": [
    "# display information about the dataset\n",
    "data.info()"
   ]
  },
  {
   "cell_type": "code",
   "execution_count": null,
   "id": "48e5d2a3",
   "metadata": {},
   "outputs": [],
   "source": [
    "# count of rows and columns\n",
    "data.shape"
   ]
  },
  {
   "cell_type": "code",
   "execution_count": null,
   "id": "c507aaf0",
   "metadata": {},
   "outputs": [],
   "source": [
    "# display first 40 rows\n",
    "data.head(40)"
   ]
  },
  {
   "cell_type": "markdown",
   "id": "103b3d94",
   "metadata": {},
   "source": [
    "## MISSING VALUES"
   ]
  },
  {
   "cell_type": "code",
   "execution_count": null,
   "id": "1c5e00cb",
   "metadata": {},
   "outputs": [],
   "source": [
    "# count of null values\n",
    "data.isnull().sum()"
   ]
  },
  {
   "cell_type": "code",
   "execution_count": null,
   "id": "1957d27b",
   "metadata": {},
   "outputs": [],
   "source": [
    "# percentage of null values\n",
    "(data.isnull().sum()*100)/len(data)"
   ]
  },
  {
   "cell_type": "markdown",
   "id": "376ed057",
   "metadata": {},
   "source": [
    "~ Columns 'Age', 'Condition', 'Reviews', 'Sex', 'Sides' are having null values."
   ]
  },
  {
   "cell_type": "markdown",
   "id": "e3170933",
   "metadata": {},
   "source": [
    "**About this file**\n",
    "*******\n",
    "Drug (categorical): name of drug\n",
    "\n",
    "DrugId (numerical): drug id\n",
    "\n",
    "Condition (categorical): name of condition\n",
    "\n",
    "Review (text): patient review\n",
    "\n",
    "Side (text): side effects associated with drug (if any)\n",
    "\n",
    "EaseOfUse (numerical): 5 star rating \n",
    "\n",
    "Effectiveness (numerical): 5 star rating \n",
    "\n",
    "Satisfaction (numerical): 5 star rating \n",
    "\n",
    "Date (date): date of review entry\n",
    "\n",
    "UsefulCount (numerical): number of users who found review useful.\n",
    "\n",
    "Age (numerical): age group range of user\n",
    "\n",
    "Sex (categorical): gender of user"
   ]
  },
  {
   "cell_type": "code",
   "execution_count": null,
   "id": "abdc1504",
   "metadata": {},
   "outputs": [],
   "source": [
    "# unique values in 'Date' column\n",
    "data['Date'].unique()"
   ]
  },
  {
   "cell_type": "code",
   "execution_count": null,
   "id": "4e75806e",
   "metadata": {},
   "outputs": [],
   "source": [
    "# checking data types of each column\n",
    "data.dtypes"
   ]
  },
  {
   "cell_type": "code",
   "execution_count": null,
   "id": "01c10710",
   "metadata": {},
   "outputs": [],
   "source": [
    "# convert date to a similar format\n",
    "# need to change which is of object data type to datetime format\n",
    "data['Date'] = pd.to_datetime(data['Date'])"
   ]
  },
  {
   "cell_type": "code",
   "execution_count": null,
   "id": "05153072",
   "metadata": {},
   "outputs": [],
   "source": [
    "# checking data types of each column\n",
    "data.dtypes"
   ]
  },
  {
   "cell_type": "code",
   "execution_count": null,
   "id": "7f7c9dce",
   "metadata": {},
   "outputs": [],
   "source": [
    "# create a new column year, for that applying lambda function on 'Date' column\n",
    "data['Year'] = data['Date'].apply(lambda x: x.year)"
   ]
  },
  {
   "cell_type": "code",
   "execution_count": null,
   "id": "27d7cd73",
   "metadata": {},
   "outputs": [],
   "source": [
    "# display first 40 rows\n",
    "data.head(40)"
   ]
  },
  {
   "cell_type": "code",
   "execution_count": null,
   "id": "029c90bb",
   "metadata": {},
   "outputs": [],
   "source": [
    "# storing all the column names as list\n",
    "col = [feature for feature in data.columns]\n",
    "\n",
    "# displaying unique values and its count in all columns\n",
    "for i in col:\n",
    "    print(f\"{i} column \\n\")    \n",
    "    nuni = data[i].nunique()\n",
    "    print(f\"Count of unique values = {nuni}\\n\")    \n",
    "    uni = data[i].unique()\n",
    "    print(f\"Unique values = {uni}\\n\\n\\n\")   "
   ]
  },
  {
   "cell_type": "code",
   "execution_count": null,
   "id": "7f2821fb",
   "metadata": {},
   "outputs": [],
   "source": [
    "# display rows having 'EaseofUse' as 6 or 10\n",
    "data[(data['EaseofUse']==6)|(data['EaseofUse']==10)]"
   ]
  },
  {
   "cell_type": "markdown",
   "id": "6261c2c7",
   "metadata": {},
   "source": [
    "~ Since 'EaseofUse' column is a 5 star rating, replacing 6 with 3 (which is the equivalent number out of 5) and 10 with 5"
   ]
  },
  {
   "cell_type": "code",
   "execution_count": null,
   "id": "db1fbc4e",
   "metadata": {},
   "outputs": [],
   "source": [
    "# correcting errors in 'EaseofUse' column\n",
    "\n",
    "data['EaseofUse'] = data['EaseofUse'].replace(10, 5)\n",
    "data['EaseofUse'] = data['EaseofUse'].replace(6, 3)"
   ]
  },
  {
   "cell_type": "code",
   "execution_count": null,
   "id": "59ce7877",
   "metadata": {},
   "outputs": [],
   "source": [
    "# display rows having 'EaseofUse' as 6 or 10 after rectifying errors\n",
    "data[(data['EaseofUse']==6)|(data['EaseofUse']==10)]"
   ]
  },
  {
   "cell_type": "code",
   "execution_count": null,
   "id": "62862c68",
   "metadata": {},
   "outputs": [],
   "source": [
    "# display rows having 'Effectiveness' as 6 or 10\n",
    "data[(data['Effectiveness']==6)|(data['Effectiveness']==10)]"
   ]
  },
  {
   "cell_type": "markdown",
   "id": "7a50c3b4",
   "metadata": {},
   "source": [
    "~ Since 'Effectiveness' column is a 5 star rating, replacing 6 with 3 (which is the equivalent number out of 5) and 10 with 5"
   ]
  },
  {
   "cell_type": "code",
   "execution_count": null,
   "id": "5c4aa21f",
   "metadata": {},
   "outputs": [],
   "source": [
    "# correcting errors in 'Effectiveness' column\n",
    "\n",
    "data['Effectiveness'] = data['Effectiveness'].replace(10, 5)\n",
    "data['Effectiveness'] = data['Effectiveness'].replace(6, 3)"
   ]
  },
  {
   "cell_type": "code",
   "execution_count": null,
   "id": "f7aafa3e",
   "metadata": {},
   "outputs": [],
   "source": [
    "# display rows having 'Effectiveness' as 6 or 10 after rectifying errors\n",
    "data[(data['Effectiveness']==6)|(data['Effectiveness']==10)]"
   ]
  },
  {
   "cell_type": "code",
   "execution_count": null,
   "id": "4db095bb",
   "metadata": {},
   "outputs": [],
   "source": [
    "# display rows having 'Satisfaction' as 6 or 10\n",
    "data[(data['Satisfaction']==6)|(data['Satisfaction']==10)]"
   ]
  },
  {
   "cell_type": "markdown",
   "id": "80853911",
   "metadata": {},
   "source": [
    "~ Since 'Satisfaction' column is a 5 star rating, replacing 6 with 3 (which is the equivalent number out of 5) and 10 with 5"
   ]
  },
  {
   "cell_type": "code",
   "execution_count": null,
   "id": "29732a6f",
   "metadata": {},
   "outputs": [],
   "source": [
    "# correcting errors in 'Satisfaction' column\n",
    "\n",
    "data['Satisfaction'] = data['Satisfaction'].replace(10, 5)\n",
    "data['Satisfaction'] = data['Satisfaction'].replace(6, 3)"
   ]
  },
  {
   "cell_type": "code",
   "execution_count": null,
   "id": "ca0ccaf3",
   "metadata": {},
   "outputs": [],
   "source": [
    "# display rows having 'Satisfaction' as 6 or 10 after rectifying errors\n",
    "data[(data['Satisfaction']==6)|(data['Satisfaction']==10)]"
   ]
  },
  {
   "cell_type": "code",
   "execution_count": null,
   "id": "2c0171b0",
   "metadata": {},
   "outputs": [],
   "source": [
    "# convert the data type of 'Age' column to a string\n",
    "data['Age'] = data['Age'].astype(str)"
   ]
  },
  {
   "cell_type": "code",
   "execution_count": null,
   "id": "6b826685",
   "metadata": {},
   "outputs": [],
   "source": [
    "# display all the data types of the dataframe\n",
    "data.dtypes"
   ]
  },
  {
   "cell_type": "code",
   "execution_count": null,
   "id": "f02f30da",
   "metadata": {},
   "outputs": [],
   "source": [
    "# unique values in 'Age' column\n",
    "data['Age'].unique()"
   ]
  },
  {
   "cell_type": "markdown",
   "id": "a7185f58",
   "metadata": {},
   "source": [
    "~ from the above unique values under 'Age' column, it is mentioned '2023-12-07 00:00:00' and '2023-06-03 00:00:00' which is a typographical error and it should be '7-12' and '3-6' which represents the age group range of user."
   ]
  },
  {
   "cell_type": "code",
   "execution_count": null,
   "id": "5be16f7e",
   "metadata": {},
   "outputs": [],
   "source": [
    "# displaying rows having errors in 'Age' column\n",
    "data[(data['Age']=='2023-12-07 00:00:00')|(data['Age']=='2023-06-03 00:00:00')]"
   ]
  },
  {
   "cell_type": "code",
   "execution_count": null,
   "id": "ccfd3f5e",
   "metadata": {},
   "outputs": [],
   "source": [
    "# count of rows having errors in 'Age' column\n",
    "len(data[(data['Age']=='2023-12-07 00:00:00')|(data['Age']=='2023-06-03 00:00:00')])"
   ]
  },
  {
   "cell_type": "markdown",
   "id": "81ceb79d",
   "metadata": {},
   "source": [
    "~ 2482 rows having errors in 'Age' column"
   ]
  },
  {
   "cell_type": "code",
   "execution_count": null,
   "id": "82f820ed",
   "metadata": {},
   "outputs": [],
   "source": [
    "# replacing '2023-12-07 00:00:00' with '7-12', '2023-06-03 00:00:00' with '3-6' under 'Age' column\n",
    "for age in data['Age'].unique():\n",
    "    if age=='2023-12-07 00:00:00': \n",
    "        data['Age'].replace({'2023-12-07 00:00:00':'7-12'},inplace=True)\n",
    "    elif age=='2023-06-03 00:00:00':\n",
    "        data['Age'].replace({'2023-06-03 00:00:00':'3-6'},inplace=True)"
   ]
  },
  {
   "cell_type": "code",
   "execution_count": null,
   "id": "c1dc574e",
   "metadata": {},
   "outputs": [],
   "source": [
    "# unique values in 'Age' column\n",
    "data['Age'].unique()"
   ]
  },
  {
   "cell_type": "markdown",
   "id": "417024bb",
   "metadata": {},
   "source": [
    "## CHECKING FOR DUPLICATES"
   ]
  },
  {
   "cell_type": "code",
   "execution_count": null,
   "id": "88caa6d5",
   "metadata": {},
   "outputs": [],
   "source": [
    "# display the rows having duplicates \n",
    "data[data.duplicated()]"
   ]
  },
  {
   "cell_type": "markdown",
   "id": "77e7d536",
   "metadata": {},
   "source": [
    "~ 943 rows were duplicated rows"
   ]
  },
  {
   "cell_type": "markdown",
   "id": "53c17aef",
   "metadata": {},
   "source": [
    "## EDA"
   ]
  },
  {
   "cell_type": "markdown",
   "id": "fc768393",
   "metadata": {},
   "source": [
    "**1) DRUG**"
   ]
  },
  {
   "cell_type": "code",
   "execution_count": null,
   "id": "40e2e6dd",
   "metadata": {},
   "outputs": [],
   "source": [
    "# display top 20 drugs\n",
    "data['Drug'].value_counts().head(20).plot(kind='bar')\n",
    "plt.rcParams['figure.figsize'] = (10, 7)\n",
    "plt.title(label='Top 20 Drugs', fontsize=20, color='red');"
   ]
  },
  {
   "cell_type": "code",
   "execution_count": null,
   "id": "eb32fead",
   "metadata": {},
   "outputs": [],
   "source": [
    "# display details of 'cymbalta' drug with 'Condition'\n",
    "list(data.loc[data['Drug'] == 'cymbalta'][['Drug','Condition']].groupby(['Drug']))"
   ]
  },
  {
   "cell_type": "markdown",
   "id": "b266a837",
   "metadata": {},
   "source": [
    "~ 'cymbalta' was the most widely used drug, used for curing Anxiousness associated with Depression, Chronic Muscle or Bone Pain, Neuropathic Pain etc."
   ]
  },
  {
   "cell_type": "markdown",
   "id": "07562406",
   "metadata": {},
   "source": [
    "**2) CONDITION**"
   ]
  },
  {
   "cell_type": "code",
   "execution_count": null,
   "id": "6c7fbf99",
   "metadata": {},
   "outputs": [],
   "source": [
    "# display condition for which drugs are used\n",
    "data[['Drug', 'Condition']].head(20)"
   ]
  },
  {
   "cell_type": "code",
   "execution_count": null,
   "id": "287fc456",
   "metadata": {},
   "outputs": [],
   "source": [
    "# Top 20 conditions\n",
    "data['Condition'].value_counts().head(20).plot(kind='bar')\n",
    "plt.rcParams['figure.figsize'] = (10, 7)\n",
    "plt.title(label='Top 20 conditions', fontsize=20, color='red');\n",
    "plt.show()"
   ]
  },
  {
   "cell_type": "markdown",
   "id": "b9f29a44",
   "metadata": {},
   "source": [
    "~ Majority of the medicines were used for curing other conditions."
   ]
  },
  {
   "cell_type": "code",
   "execution_count": null,
   "id": "dc4a3999",
   "metadata": {},
   "outputs": [],
   "source": [
    "# display rows having missing 'Condition' \n",
    "data[data['Condition'].isna()]"
   ]
  },
  {
   "cell_type": "markdown",
   "id": "ead9cb53",
   "metadata": {},
   "source": [
    "~ When the condition for which the medicine is taken was missing, very less number of users were finding the review useful."
   ]
  },
  {
   "cell_type": "markdown",
   "id": "25efa320",
   "metadata": {},
   "source": [
    "**3) EFFECTIVENESS**"
   ]
  },
  {
   "cell_type": "code",
   "execution_count": null,
   "id": "04ccc661",
   "metadata": {},
   "outputs": [],
   "source": [
    "# display 'effectiveness' rating of drugs\n",
    "data['Effectiveness'].value_counts().head(20).plot(kind='barh')\n",
    "plt.rcParams['figure.figsize'] = (10, 7)\n",
    "plt.title(label='Effectiveness rating', fontsize=20, color='red');\n",
    "plt.ylabel('Effectiveness rating');\n",
    "plt.show()"
   ]
  },
  {
   "cell_type": "markdown",
   "id": "b603d2ef",
   "metadata": {},
   "source": [
    "**4) EASE OF USE**"
   ]
  },
  {
   "cell_type": "code",
   "execution_count": null,
   "id": "7469f3d7",
   "metadata": {},
   "outputs": [],
   "source": [
    "# display 'ease of use' rating of drugs\n",
    "data['EaseofUse'].value_counts().head(20).plot(kind='barh')\n",
    "plt.rcParams['figure.figsize'] = (10, 7)\n",
    "plt.title(label='Ease of Use rating', fontsize=20, color='red');\n",
    "plt.ylabel('Ease of Use rating');\n",
    "plt.show()"
   ]
  },
  {
   "cell_type": "markdown",
   "id": "fb8b291a",
   "metadata": {},
   "source": [
    "**5) SATISFACTION**"
   ]
  },
  {
   "cell_type": "code",
   "execution_count": null,
   "id": "b918012f",
   "metadata": {},
   "outputs": [],
   "source": [
    "# display 'satisfaction' rating of drugs\n",
    "data['Satisfaction'].value_counts().plot(kind='pie', autopct = '%1.2f%%');\n",
    "plt.title(label='Satisfaction rating', fontsize=20, color='red');\n",
    "plt.show()"
   ]
  },
  {
   "cell_type": "markdown",
   "id": "7fe5caf5",
   "metadata": {},
   "source": [
    "~ Majority of the users had given 5 as rating for Satisfaction, Ease of use and Effectiveness of the drug."
   ]
  },
  {
   "cell_type": "markdown",
   "id": "181e1677",
   "metadata": {},
   "source": [
    "**6) SIDES**"
   ]
  },
  {
   "cell_type": "code",
   "execution_count": null,
   "id": "c9e2eebb",
   "metadata": {},
   "outputs": [],
   "source": [
    "# display top 20 side effects of drug\n",
    "data['Sides'].value_counts().head(20).plot(kind='bar')\n",
    "plt.rcParams['figure.figsize'] = (10, 7)\n",
    "plt.title(label='Top 20 side effects of drug', fontsize=20, color='red');\n",
    "plt.show()"
   ]
  },
  {
   "cell_type": "markdown",
   "id": "ac636732",
   "metadata": {},
   "source": [
    "~ Most commonly found side effects associated with the drug were Nausea, vomiting, constipation, lightheadedness, dizziness, or drowsiness."
   ]
  },
  {
   "cell_type": "code",
   "execution_count": null,
   "id": "93198864",
   "metadata": {},
   "outputs": [],
   "source": [
    "# display side effects of medicine in which it is mentioned only once\n",
    "data[data['Sides'].isin(data['Sides'].value_counts()[data['Sides'].value_counts()<2].index)]"
   ]
  },
  {
   "cell_type": "code",
   "execution_count": null,
   "id": "cff58f16",
   "metadata": {},
   "outputs": [],
   "source": [
    "# display last  110 side effects of medicine in which it is mentioned only once\n",
    "data['Sides'].value_counts().tail(110).to_string()"
   ]
  },
  {
   "cell_type": "code",
   "execution_count": null,
   "id": "330a74a9",
   "metadata": {},
   "outputs": [],
   "source": [
    "# display row having missing 'Sides'\n",
    "data[data['Sides'].isna()]"
   ]
  },
  {
   "cell_type": "code",
   "execution_count": null,
   "id": "59714321",
   "metadata": {},
   "outputs": [],
   "source": [
    "# display row having missing 'Sides' and  'Condition' as 'Other' \n",
    "data[(data['Sides'].isna()) & (data['Condition']=='Other')]"
   ]
  },
  {
   "cell_type": "markdown",
   "id": "5f81723f",
   "metadata": {},
   "source": [
    "~ 17460 rows were having missing side effects, out of which 6468 rows were having 'Condition' as 'Other'"
   ]
  },
  {
   "cell_type": "markdown",
   "id": "c6831d85",
   "metadata": {},
   "source": [
    "**7) AGE**"
   ]
  },
  {
   "cell_type": "code",
   "execution_count": null,
   "id": "48668f46",
   "metadata": {},
   "outputs": [],
   "source": [
    "# display distribution of Age\n",
    "data['Age'].value_counts().plot(kind='bar')\n",
    "plt.rcParams['figure.figsize'] = (10, 7)\n",
    "plt.title(label='Age distribution', fontsize=20, color='red');\n",
    "plt.show()"
   ]
  },
  {
   "cell_type": "markdown",
   "id": "ca761734",
   "metadata": {},
   "source": [
    "~ Maximum and minimum amount of reviews were obtained from the age group between 45-54 and 0-2."
   ]
  },
  {
   "cell_type": "code",
   "execution_count": null,
   "id": "9ddb644f",
   "metadata": {},
   "outputs": [],
   "source": [
    "# display rows having missing 'Age'\n",
    "data[data['Age']=='nan']"
   ]
  },
  {
   "cell_type": "code",
   "execution_count": null,
   "id": "8277c598",
   "metadata": {},
   "outputs": [],
   "source": [
    "# display rows having missing 'Age' and 'Sex'\n",
    "data[(data['Age']=='nan') & (data['Sex'].isna())] "
   ]
  },
  {
   "cell_type": "markdown",
   "id": "74ce4a3d",
   "metadata": {},
   "source": [
    "~ 12202 rows were having 'Age' column missing, out of which 7510 rows were having 'Sex' as missing. "
   ]
  },
  {
   "cell_type": "markdown",
   "id": "d56534e4",
   "metadata": {},
   "source": [
    "**8) GENDER**"
   ]
  },
  {
   "cell_type": "code",
   "execution_count": null,
   "id": "51f2f564",
   "metadata": {},
   "outputs": [],
   "source": [
    "# display distribution of Gender\n",
    "data['Sex'].value_counts().head(20).plot(kind='pie', autopct = '%1.2f%%')\n",
    "plt.rcParams['figure.figsize'] = (10, 7)\n",
    "plt.title(label='Gender distribution', fontsize=20, color='red');\n",
    "plt.show()"
   ]
  },
  {
   "cell_type": "markdown",
   "id": "9e8abe3c",
   "metadata": {},
   "source": [
    "~ Majority of the user reviews were given by females when compared to males."
   ]
  },
  {
   "cell_type": "code",
   "execution_count": null,
   "id": "1ba7710b",
   "metadata": {},
   "outputs": [],
   "source": [
    "# display rows having missing 'Gender'\n",
    "data[data['Sex'].isna()]"
   ]
  },
  {
   "cell_type": "markdown",
   "id": "04f0de08",
   "metadata": {},
   "source": [
    "**9) USEFUL COUNT**"
   ]
  },
  {
   "cell_type": "code",
   "execution_count": null,
   "id": "dd787b93",
   "metadata": {},
   "outputs": [],
   "source": [
    "# sort the dataframe with 'UsefulCount' column and display necessary columns\n",
    "highest_usefulcount = data.sort_values(by = 'UsefulCount', axis=0, ascending=False)\n",
    "highest_usefulcount[['UsefulCount', 'Drug', 'Condition', 'Reviews', 'Sides', 'EaseofUse', 'Effectiveness', 'Satisfaction']].head(20)"
   ]
  },
  {
   "cell_type": "markdown",
   "id": "04c1ab69",
   "metadata": {},
   "source": [
    "~ Rows are displayed with highest number of users who found the review useful for a particular drug. 'reclast bottle, infusion' drug had got the highest 'UsefulCount' indicating that review regarding this particular drug was useful to many users. "
   ]
  },
  {
   "cell_type": "markdown",
   "id": "cd7b4ee8",
   "metadata": {},
   "source": [
    "**10) YEAR**"
   ]
  },
  {
   "cell_type": "code",
   "execution_count": null,
   "id": "09ffe7f0",
   "metadata": {},
   "outputs": [],
   "source": [
    "# display distribution of Year\n",
    "data['Year'].value_counts().plot(kind='bar')\n",
    "plt.rcParams['figure.figsize'] = (10, 7)\n",
    "plt.title(label='Year wise user reviews', fontsize=20, color='red');\n",
    "plt.show()"
   ]
  },
  {
   "cell_type": "markdown",
   "id": "4cc8a55b",
   "metadata": {},
   "source": [
    "~ User reviews on specific drugs were taken for 13 years from the year 2007 to 2020 with maximum reviews for the year 2009 and minimum reviews for the year 2020."
   ]
  },
  {
   "cell_type": "markdown",
   "id": "5dfafb50",
   "metadata": {},
   "source": [
    "**11) REVIEWS**"
   ]
  },
  {
   "cell_type": "code",
   "execution_count": null,
   "id": "056133c3",
   "metadata": {},
   "outputs": [],
   "source": [
    "# display top 20 reviews\n",
    "data['Reviews'].value_counts().head(20)"
   ]
  },
  {
   "cell_type": "markdown",
   "id": "ccd7445c",
   "metadata": {},
   "source": [
    "### DATA UNDERSTANDING\n",
    "\n",
    "* Dataset was having 362806 rows and 12 columns.\n",
    "\n",
    "* User reviews on specific drugs were taken for 13 years from the year 2007 to 2020 with maximum reviews for the year 2009 and minimum reviews for the year 2020.\n",
    "\n",
    "* Maximum and minimum amount of reviews were obtained from the age group between 45-54 and 0-2.\n",
    "\n",
    "* Majority of the medicines were used for curing other conditions. When the condition for which the medicine is taken was missing, very less number of users was finding the review useful.\n",
    "\n",
    "* 'cymbalta' was the most widely used drug, used for curing Anxiousness associated with Depression, Chronic Muscle or Bone Pain, Neuropathic Pain etc.\n",
    "\n",
    "* Majority of the users had given 5 as rating for Satisfaction, Ease of use and Effectiveness of the drug.\n",
    "\n",
    "* Majority of the user reviews were given by females when compared to males.\n",
    "\n",
    "* Most commonly found side effects associated with the drug were Nausea, vomiting, constipation, lightheadedness, dizziness, or drowsiness. 17460 rows were having missing side effects, out of which 6468 rows were having 'Condition' as 'Other'.\n",
    "\n",
    "* 'reclast bottle, infusion' drug had got the highest 'UsefulCount' indicating that review regarding this particular drug was useful to many users. "
   ]
  },
  {
   "cell_type": "markdown",
   "id": "42cc6d1f",
   "metadata": {},
   "source": [
    "## FILLLING MISSING VALUES"
   ]
  },
  {
   "cell_type": "code",
   "execution_count": null,
   "id": "5529218c",
   "metadata": {},
   "outputs": [],
   "source": [
    "# display information about the dataset\n",
    "data.info()"
   ]
  },
  {
   "cell_type": "code",
   "execution_count": null,
   "id": "ee822a5c",
   "metadata": {},
   "outputs": [],
   "source": [
    "# count of null values\n",
    "data.isnull().sum()"
   ]
  },
  {
   "cell_type": "markdown",
   "id": "6ec59679",
   "metadata": {},
   "source": [
    "~ Missing values are present in 'Age', 'Condition', 'Reviews', 'Sex', 'Sides' columns which are of object type. Hence filling missing values with its mode."
   ]
  },
  {
   "cell_type": "markdown",
   "id": "e55291c3",
   "metadata": {},
   "source": [
    "### a) AGE COLUMN"
   ]
  },
  {
   "cell_type": "code",
   "execution_count": null,
   "id": "242be9e5",
   "metadata": {},
   "outputs": [],
   "source": [
    "# unique values in 'Age' column\n",
    "data['Age'].unique()"
   ]
  },
  {
   "cell_type": "markdown",
   "id": "15dbff70",
   "metadata": {},
   "source": [
    "~ missing values in 'Age' column are marked as 'nan'"
   ]
  },
  {
   "cell_type": "code",
   "execution_count": null,
   "id": "896d5062",
   "metadata": {},
   "outputs": [],
   "source": [
    "# mode of 'Age' column\n",
    "data['Age'].mode()[0]"
   ]
  },
  {
   "cell_type": "code",
   "execution_count": null,
   "id": "cc4552be",
   "metadata": {},
   "outputs": [],
   "source": [
    "# replacing missing value in 'Age' column with its mode\n",
    "data.loc[data.Age == 'nan', 'Age'] = '45-54'"
   ]
  },
  {
   "cell_type": "code",
   "execution_count": null,
   "id": "eb0d2026",
   "metadata": {},
   "outputs": [],
   "source": [
    "# unique values in 'Age' column\n",
    "data['Age'].unique()"
   ]
  },
  {
   "cell_type": "markdown",
   "id": "42c648f8",
   "metadata": {},
   "source": [
    "### b) CONDITION COLUMN"
   ]
  },
  {
   "cell_type": "code",
   "execution_count": null,
   "id": "e9fc0138",
   "metadata": {},
   "outputs": [],
   "source": [
    "# mode of 'Condition' column\n",
    "data['Condition'].mode()[0]"
   ]
  },
  {
   "cell_type": "code",
   "execution_count": null,
   "id": "ba5d6439",
   "metadata": {},
   "outputs": [],
   "source": [
    "# display rows having missing Condition\n",
    "data[data['Condition'].isna()]"
   ]
  },
  {
   "cell_type": "code",
   "execution_count": null,
   "id": "c4dba7af",
   "metadata": {},
   "outputs": [],
   "source": [
    "# filling missing values in 'Condition' column with its mode\n",
    "data.loc[data['Condition'].isna(), 'Condition'] = 'Other'"
   ]
  },
  {
   "cell_type": "code",
   "execution_count": null,
   "id": "9444dec3",
   "metadata": {},
   "outputs": [],
   "source": [
    "# display rows having missing Condition\n",
    "data[data['Condition'].isna()]"
   ]
  },
  {
   "cell_type": "markdown",
   "id": "2b4098dc",
   "metadata": {},
   "source": [
    "### c) REVIEWS COLUMN"
   ]
  },
  {
   "cell_type": "code",
   "execution_count": null,
   "id": "30eee7e1",
   "metadata": {},
   "outputs": [],
   "source": [
    "# mode of 'Reviews' column\n",
    "data['Reviews'].mode()[0]"
   ]
  },
  {
   "cell_type": "code",
   "execution_count": null,
   "id": "28319f0b",
   "metadata": {},
   "outputs": [],
   "source": [
    "# display rows having missing Reviews\n",
    "data[data['Reviews'].isna()]"
   ]
  },
  {
   "cell_type": "code",
   "execution_count": null,
   "id": "554287b2",
   "metadata": {},
   "outputs": [],
   "source": [
    "# filling missing values in 'Reviews' column with its mode\n",
    "data.loc[data['Reviews'].isna(), 'Reviews'] = 'good'"
   ]
  },
  {
   "cell_type": "code",
   "execution_count": null,
   "id": "aeb75a19",
   "metadata": {},
   "outputs": [],
   "source": [
    "# display rows having missing Reviews\n",
    "data[data['Reviews'].isna()]"
   ]
  },
  {
   "cell_type": "markdown",
   "id": "15a1e5b9",
   "metadata": {},
   "source": [
    "### d) SEX COLUMN"
   ]
  },
  {
   "cell_type": "code",
   "execution_count": null,
   "id": "732cc5a4",
   "metadata": {},
   "outputs": [],
   "source": [
    "# mode of 'Sex' column\n",
    "data['Sex'].mode()[0]"
   ]
  },
  {
   "cell_type": "code",
   "execution_count": null,
   "id": "acc9ed9e",
   "metadata": {},
   "outputs": [],
   "source": [
    "# display rows having missing Sex\n",
    "data[data['Sex'].isna()]"
   ]
  },
  {
   "cell_type": "code",
   "execution_count": null,
   "id": "794a99d0",
   "metadata": {},
   "outputs": [],
   "source": [
    "# filling missing values in 'Sex' column with its mode\n",
    "data.loc[data['Sex'].isna(), 'Sex'] = 'Female'"
   ]
  },
  {
   "cell_type": "code",
   "execution_count": null,
   "id": "0fd7dad8",
   "metadata": {},
   "outputs": [],
   "source": [
    "# display rows having missing Sex\n",
    "data[data['Sex'].isna()]"
   ]
  },
  {
   "cell_type": "markdown",
   "id": "cc1fc70f",
   "metadata": {},
   "source": [
    "### e) SIDES COLUMN"
   ]
  },
  {
   "cell_type": "code",
   "execution_count": null,
   "id": "18731152",
   "metadata": {},
   "outputs": [],
   "source": [
    "# mode of 'Sides' column\n",
    "data['Sides'].mode()[0]"
   ]
  },
  {
   "cell_type": "code",
   "execution_count": null,
   "id": "cb263cbb",
   "metadata": {},
   "outputs": [],
   "source": [
    "# display rows having missing Sides\n",
    "data[data['Sides'].isna()]"
   ]
  },
  {
   "cell_type": "code",
   "execution_count": null,
   "id": "048693f8",
   "metadata": {},
   "outputs": [],
   "source": [
    "# filling missing values in 'Sides' column with its mode\n",
    "data.loc[data['Sides'].isna(), 'Sides'] = 'Nausea ,  vomiting ,  constipation ,  lightheadedness ,  dizziness , or drowsiness may occur.'"
   ]
  },
  {
   "cell_type": "code",
   "execution_count": null,
   "id": "062ecdff",
   "metadata": {},
   "outputs": [],
   "source": [
    "# display rows having missing Sides\n",
    "data[data['Sides'].isna()]"
   ]
  },
  {
   "cell_type": "code",
   "execution_count": null,
   "id": "e564cb79",
   "metadata": {},
   "outputs": [],
   "source": [
    "# side effects of medicine in which it is mentioned only once, store it in a dataframe\n",
    "data3 = data[data['Sides'].isin(data['Sides'].value_counts()[data['Sides'].value_counts()<2].index)]"
   ]
  },
  {
   "cell_type": "code",
   "execution_count": null,
   "id": "56a67da7",
   "metadata": {},
   "outputs": [],
   "source": [
    "# count of rows having side effects of medicine mentioned only once\n",
    "len(data3)"
   ]
  },
  {
   "cell_type": "code",
   "execution_count": null,
   "id": "ceffb31a",
   "metadata": {},
   "outputs": [],
   "source": [
    "# converting a specific column to a list\n",
    "data3['Sides'].to_list()"
   ]
  },
  {
   "cell_type": "code",
   "execution_count": null,
   "id": "253a0ee0",
   "metadata": {},
   "outputs": [],
   "source": [
    "# converting a specific column to a list and storing it in a variable\n",
    "sides_1list = data3['Sides'].to_list()"
   ]
  },
  {
   "cell_type": "code",
   "execution_count": null,
   "id": "8c98e9d7",
   "metadata": {},
   "outputs": [],
   "source": [
    "# display \n",
    "sides_1list"
   ]
  },
  {
   "cell_type": "code",
   "execution_count": null,
   "id": "7ff629d8",
   "metadata": {},
   "outputs": [],
   "source": [
    "# From the side effects of medicine which is mentioned only once, display rows where 'Nausea' is mentioned and store it in a list \n",
    "a = []\n",
    "for i in sides_1list:\n",
    "    if i.__contains__(\"Nausea\")|i.__contains__(\"nausea\"):\n",
    "        print(f\"{i}\")\n",
    "        a.append(i)"
   ]
  },
  {
   "cell_type": "code",
   "execution_count": null,
   "id": "9c769dc2",
   "metadata": {},
   "outputs": [],
   "source": [
    "# From the side effects of medicine which is mentioned only once, filtering out side effects other than 'Nausea'\n",
    "other_sides = [feature for feature in sides_1list if feature not in a]\n",
    "other_sides"
   ]
  },
  {
   "cell_type": "code",
   "execution_count": null,
   "id": "bc1c639a",
   "metadata": {},
   "outputs": [],
   "source": [
    "# side effects of medicine which  is mentioned only once, grouping into various classifications\n",
    "for side in data['Sides'].unique():\n",
    "    if side=='Nausea ,  vomiting , loss of appetite, or mild muscle/ joint pain  may occur.': \n",
    "        data['Sides'].replace({'Nausea ,  vomiting , loss of appetite, or mild muscle/ joint pain  may occur.':'Nausea etc.'},inplace=True)\n",
    "    elif side=='Nausea ,  vomiting ,  constipation ,  lightheadedness ,  dizziness , drowsiness, fever, or  headache  may occur.':\n",
    "        data['Sides'].replace({'Nausea ,  vomiting ,  constipation ,  lightheadedness ,  dizziness , drowsiness, fever, or  headache  may occur.':'Nausea etc.'},inplace=True)\n",
    "    elif side=='Nausea , nervousness, or  trouble sleeping  may occur.':\n",
    "        data['Sides'].replace({'Nausea , nervousness, or  trouble sleeping  may occur.':'Nausea etc.'},inplace=True)\n",
    "    elif side=='Infusion reactions (such as flushing,  itching ),  nausea , or  headache  may occur.':\n",
    "        data['Sides'].replace({'Infusion reactions (such as flushing,  itching ),  nausea , or  headache  may occur.':'Nausea etc.'},inplace=True)\n",
    "    elif side=='Nausea , gas, or  diarrhea  may occur.':\n",
    "        data['Sides'].replace({'Nausea , gas, or  diarrhea  may occur.':'Nausea etc.'},inplace=True) \n",
    "    elif side=='Nausea ,  vomiting ,  weakness , loss of appetite,  diarrhea , or pain/swelling/redness at injection site may occur.':\n",
    "        data['Sides'].replace({'Nausea ,  vomiting ,  weakness , loss of appetite,  diarrhea , or pain/swelling/redness at injection site may occur.':'Nausea etc.'},inplace=True) \n",
    "    elif side=='Tiredness, abnormal taste,  hair loss ,  headache ,  weight loss ,  nausea / vomiting ,  diarrhea ,  stomach / abdominal pain , mild  itching , or decreased appetite may occur.':\n",
    "        data['Sides'].replace({'Tiredness, abnormal taste,  hair loss ,  headache ,  weight loss ,  nausea / vomiting ,  diarrhea ,  stomach / abdominal pain , mild  itching , or decreased appetite may occur.':'Nausea etc.'},inplace=True)\n",
    "    elif side=='Headache , flushing,  dizziness , drowsiness,  nausea ,  vomiting , loss of appetite,  diarrhea ,  constipation , sensitive  skin , or  flu -like symptoms (such as  sore throat ,  cough , body aches) may occur.':\n",
    "        data['Sides'].replace({'Headache , flushing,  dizziness , drowsiness,  nausea ,  vomiting , loss of appetite,  diarrhea ,  constipation , sensitive  skin , or  flu -like symptoms (such as  sore throat ,  cough , body aches) may occur.':'Nausea etc.'},inplace=True)\n",
    "    elif side=='Nausea ,  vomiting ,  diarrhea , lip/ mouth  sores, or loss of appetite may occur.':\n",
    "        data['Sides'].replace({'Nausea ,  vomiting ,  diarrhea , lip/ mouth  sores, or loss of appetite may occur.':'Nausea etc.'},inplace=True)\n",
    "    elif side=='Nausea ,  vomiting ,  diarrhea , fever, chills,  abdominal pain , flushing, and  dizziness  may occur.':\n",
    "        data['Sides'].replace({'Nausea ,  vomiting ,  diarrhea , fever, chills,  abdominal pain , flushing, and  dizziness  may occur.':'Nausea etc.'},inplace=True)\n",
    "    elif side=='Nausea ,  vomiting , loss of appetite,  constipation ,  dry mouth , difficulty swallowing, drowsiness,  dizziness ,  headache ,  trouble sleeping , muscle/ joint pain , or darkening of the  skin  may occur.':\n",
    "        data['Sides'].replace({'Nausea ,  vomiting , loss of appetite,  constipation ,  dry mouth , difficulty swallowing, drowsiness,  dizziness ,  headache ,  trouble sleeping , muscle/ joint pain , or darkening of the  skin  may occur.':'Nausea etc.'},inplace=True)\n",
    "    elif side=='Nausea ,  vomiting ,  dizziness ,  stomach  upset, and abdominal  cramps  may occur.':\n",
    "        data['Sides'].replace({'Nausea ,  vomiting ,  dizziness ,  stomach  upset, and abdominal  cramps  may occur.':'Nausea etc.'},inplace=True)\n",
    "    elif side=='Stomach  upset,  nausea ,  vomiting , loss of appetite, or  headache  may occur.':\n",
    "        data['Sides'].replace({'Stomach  upset,  nausea ,  vomiting , loss of appetite, or  headache  may occur.':'Nausea etc.'},inplace=True)\n",
    "    elif side=='Nausea ,  vomiting , loss of appetite, unusual taste/dryness in the  mouth ,  dizziness ,  diarrhea , or redness/pain/leakage at the injection site may occur.':\n",
    "        data['Sides'].replace({'Nausea ,  vomiting , loss of appetite, unusual taste/dryness in the  mouth ,  dizziness ,  diarrhea , or redness/pain/leakage at the injection site may occur.':'Nausea etc.'},inplace=True)\n",
    "    elif side=='Headache ,  nausea ,  vomiting ,  diarrhea ,  dizziness , drowsiness, numbness/tingling, or  trouble sleeping  may occur.':\n",
    "        data['Sides'].replace({'Headache ,  nausea ,  vomiting ,  diarrhea ,  dizziness , drowsiness, numbness/tingling, or  trouble sleeping  may occur.':'Nausea etc.'},inplace=True)\n",
    "    elif side=='Nausea / vomiting ,  diarrhea ,  stomach / abdominal pain ,  mouth  sores,  constipation ,  hemorrhoids ,  headache ,  dizziness , tiredness, muscle/ joint pain , or  trouble sleeping  may occur.':\n",
    "        data['Sides'].replace({'Nausea / vomiting ,  diarrhea ,  stomach / abdominal pain ,  mouth  sores,  constipation ,  hemorrhoids ,  headache ,  dizziness , tiredness, muscle/ joint pain , or  trouble sleeping  may occur.':'Nausea etc.'},inplace=True)\n",
    "    elif side=='Nausea ,  vomiting , loss of appetite, abdominal  cramps ,  diarrhea , and  heartburn  may occur.':\n",
    "        data['Sides'].replace({'Nausea ,  vomiting , loss of appetite, abdominal  cramps ,  diarrhea , and  heartburn  may occur.':'Nausea etc.'},inplace=True)\n",
    "    elif side=='Nausea ,  diarrhea , and  upset stomach  may occur as your body adjusts to the  metformin .':\n",
    "        data['Sides'].replace({'Nausea ,  diarrhea , and  upset stomach  may occur as your body adjusts to the  metformin .':'Nausea etc.'},inplace=True)\n",
    "    elif side=='Headache ,  hair loss ,  dizziness ,  diarrhea ,  constipation ,  nausea ,  vomiting ,  muscle pain , swelling of arms/legs, and redness/pain/swelling/ itching /bleeding at injection site may occur.':\n",
    "        data['Sides'].replace({'Headache ,  hair loss ,  dizziness ,  diarrhea ,  constipation ,  nausea ,  vomiting ,  muscle pain , swelling of arms/legs, and redness/pain/swelling/ itching /bleeding at injection site may occur.':'Nausea etc.'},inplace=True)\n",
    "    elif side=='Nausea ,  lightheadedness ,  dizziness , or a feeling of spinning may occur.':\n",
    "        data['Sides'].replace({'Nausea ,  lightheadedness ,  dizziness , or a feeling of spinning may occur.':'Nausea etc.'},inplace=True)\n",
    "    elif side=='Dizziness ,  lightheadedness ,  diarrhea ,  nausea ,  vomiting ,  bloating /gas,  headache ,  weakness , or increased urination may occur.':\n",
    "        data['Sides'].replace({'Dizziness ,  lightheadedness ,  diarrhea ,  nausea ,  vomiting ,  bloating /gas,  headache ,  weakness , or increased urination may occur.':'Nausea etc.'},inplace=True)\n",
    "    elif side=='Nausea ,  vomiting ,  diarrhea , abdominal/ stomach pain ,  cough ,  dizziness ,  headache , flushing, or loss of appetite may occur.':\n",
    "        data['Sides'].replace({'Nausea ,  vomiting ,  diarrhea , abdominal/ stomach pain ,  cough ,  dizziness ,  headache , flushing, or loss of appetite may occur.':'Nausea etc.'},inplace=True)\n",
    "    elif side=='Headache ,  nausea , chills, or fever may occur.':\n",
    "        data['Sides'].replace({'Headache ,  nausea , chills, or fever may occur.':'Nausea etc.'},inplace=True)\n",
    "    elif side=='Nausea ,  vomiting ,  stomach / abdominal pain , gas,  diarrhea ,  weight loss ,  headache ,  muscle cramps ,  dizziness , or  weakness  may occur.':\n",
    "        data['Sides'].replace({'Nausea ,  vomiting ,  stomach / abdominal pain , gas,  diarrhea ,  weight loss ,  headache ,  muscle cramps ,  dizziness , or  weakness  may occur.':'Nausea etc.'},inplace=True)\n",
    "    elif side=='Drowsiness,  dizziness ,  headache ,  nausea ,  vomiting , loss of appetite,  constipation ,  stomach  upset,  blurred vision , decreased coordination, and  dry mouth /nose/throat may occur.':\n",
    "        data['Sides'].replace({'Drowsiness,  dizziness ,  headache ,  nausea ,  vomiting , loss of appetite,  constipation ,  stomach  upset,  blurred vision , decreased coordination, and  dry mouth /nose/throat may occur.':'Nausea etc.'},inplace=True)\n",
    "    elif side=='Nausea ,  vomiting ,  diarrhea , tiredness, loss of appetite,  weakness , and fever may occur.':\n",
    "        data['Sides'].replace({'Nausea ,  vomiting ,  diarrhea , tiredness, loss of appetite,  weakness , and fever may occur.':'Nausea etc.'},inplace=True)\n",
    "    elif side=='Stomach  upset/fullness,  nausea ,  headache , and  weight  gain may occur.':\n",
    "        data['Sides'].replace({'Stomach  upset/fullness,  nausea ,  headache , and  weight  gain may occur.':'Nausea etc.'},inplace=True)\n",
    "    elif side=='Nausea ,  vomiting , loss of appetite,  mouth  sores, changes in taste,  constipation , tiredness,  dizziness ,  trouble sleeping ,  headache , or pain/redness/swelling at the injection site may occur.':\n",
    "        data['Sides'].replace({'Nausea ,  vomiting , loss of appetite,  mouth  sores, changes in taste,  constipation , tiredness,  dizziness ,  trouble sleeping ,  headache , or pain/redness/swelling at the injection site may occur.':'Nausea etc.'},inplace=True)\n",
    "    elif side=='Nausea ,  vomiting ,  upset stomach , loss of appetite,  weight loss ,  constipation , tiredness/ weakness ,  headache , or change in how food tastes may occur.':\n",
    "        data['Sides'].replace({'Nausea ,  vomiting ,  upset stomach , loss of appetite,  weight loss ,  constipation , tiredness/ weakness ,  headache , or change in how food tastes may occur.':'Nausea etc.'},inplace=True)\n",
    "    elif side=='Diarrhea ,  nausea , drowsiness,  dizziness ,  headache  or  vomiting  may occur.':\n",
    "        data['Sides'].replace({'Diarrhea ,  nausea , drowsiness,  dizziness ,  headache  or  vomiting  may occur.':'Nausea etc.'},inplace=True)\n",
    "    elif side=='Hoarseness, changes in your voice,  nausea ,  diarrhea ,  headache , tiredness, decreased  weight , or muscle/ joint pain  may occur.':\n",
    "        data['Sides'].replace({'Hoarseness, changes in your voice,  nausea ,  diarrhea ,  headache , tiredness, decreased  weight , or muscle/ joint pain  may occur.':'Nausea etc.'},inplace=True)\n",
    "    elif side=='Nausea ,  vomiting ,  diarrhea ,  constipation ,  stomach  upset,  dizziness , or pain/ itching /swelling at injection site may occur.':\n",
    "        data['Sides'].replace({'Nausea ,  vomiting ,  diarrhea ,  constipation ,  stomach  upset,  dizziness , or pain/ itching /swelling at injection site may occur.':'Nausea etc.'},inplace=True)\n",
    "    elif side=='Nausea ,  vomiting ,  diarrhea ,  dizziness ,  headache , or unusual tiredness may occur.':\n",
    "        data['Sides'].replace({'Nausea ,  vomiting ,  diarrhea ,  dizziness ,  headache , or unusual tiredness may occur.':'Nausea etc.'},inplace=True)\n",
    "    elif side=='Hot flashes , tiredness,  joint pain ,  nausea , decreased appetite,  weight loss , or decreased sexual interest/ability may occur.':\n",
    "        data['Sides'].replace({'Hot flashes , tiredness,  joint pain ,  nausea , decreased appetite,  weight loss , or decreased sexual interest/ability may occur.':'Nausea etc.'},inplace=True)\n",
    "    elif side=='Nausea ,  vomiting ,  diarrhea , abdominal/ stomach pain , increased  saliva , strange  metallic taste  in the  mouth , loss of appetite, or sores in the  mouth  may occur.':\n",
    "        data['Sides'].replace({'Nausea ,  vomiting ,  diarrhea , abdominal/ stomach pain , increased  saliva , strange  metallic taste  in the  mouth , loss of appetite, or sores in the  mouth  may occur.':'Nausea etc.'},inplace=True)\n",
    "    elif side=='Nausea ,  vomiting , loss of appetite, flushing,  dry skin ,  headache , leg  cramps , decreased sexual interest/ability, and male  breast  tenderness/enlargement may occur.':\n",
    "        data['Sides'].replace({'Nausea ,  vomiting , loss of appetite, flushing,  dry skin ,  headache , leg  cramps , decreased sexual interest/ability, and male  breast  tenderness/enlargement may occur.':'Nausea etc.'},inplace=True)\n",
    "    elif side=='Nausea ,  vomiting , tiredness, loss of appetite,  diarrhea ,  weight loss , swelling hands/ ankles /feet, or  weakness  may occur.':\n",
    "        data['Sides'].replace({'Nausea ,  vomiting , tiredness, loss of appetite,  diarrhea ,  weight loss , swelling hands/ ankles /feet, or  weakness  may occur.':'Nausea etc.'},inplace=True)\n",
    "    elif side=='Drowsiness,  dizziness ,  lightheadedness ,  nausea ,  vomiting , or  constipation  may occur.':\n",
    "        data['Sides'].replace({'Drowsiness,  dizziness ,  lightheadedness ,  nausea ,  vomiting , or  constipation  may occur.':'Nausea etc.'},inplace=True)\n",
    "    elif side=='Pain/soreness/redness/swelling at the injection site, fever,  headache , tiredness,  sore throat ,  nausea ,  diarrhea , loss of appetite, and  dizziness  may occur.':\n",
    "        data['Sides'].replace({'Pain/soreness/redness/swelling at the injection site, fever,  headache , tiredness,  sore throat ,  nausea ,  diarrhea , loss of appetite, and  dizziness  may occur.':'Nausea etc.'},inplace=True)\n",
    "    elif side=='Pain/redness/swelling at the injection site, fever, tiredness,  headache ,  nausea , and  diarrhea  may occur.':\n",
    "        data['Sides'].replace({'Pain/redness/swelling at the injection site, fever, tiredness,  headache ,  nausea , and  diarrhea  may occur.':'Nausea etc.'},inplace=True)\n",
    "    elif side=='Nausea ,  vomiting , tiredness, and loss of appetite may occur.':\n",
    "        data['Sides'].replace({'Nausea ,  vomiting , tiredness, and loss of appetite may occur.':'Nausea etc.'},inplace=True)\n",
    "    elif side=='Numbness/tingling, change in the sense of taste,  nausea ,  diarrhea ,  weight loss ,  muscle spasms / twitching , tiredness,  dizziness , or drowsiness may occur.':\n",
    "        data['Sides'].replace({'Numbness/tingling, change in the sense of taste,  nausea ,  diarrhea ,  weight loss ,  muscle spasms / twitching , tiredness,  dizziness , or drowsiness may occur.':'Nausea etc.'},inplace=True)\n",
    "    elif side=='Dizziness ,  headache , and  nausea  may occur.':\n",
    "        data['Sides'].replace({'Dizziness ,  headache , and  nausea  may occur.':'Nausea etc.'},inplace=True)\n",
    "    elif side=='Stomach  upset,  nausea ,  diarrhea , or drowsiness may occur.':\n",
    "        data['Sides'].replace({'Stomach  upset,  nausea ,  diarrhea , or drowsiness may occur.':'Nausea etc.'},inplace=True)\n",
    "    elif side=='Nausea ,  vomiting ,  headache ,  bloating ,  breast  tenderness,  acne , or  weight  gain may occur.':\n",
    "        data['Sides'].replace({'Nausea ,  vomiting ,  headache ,  bloating ,  breast  tenderness,  acne , or  weight  gain may occur.':'Nausea etc.'},inplace=True)\n",
    "    elif side=='Nausea ,  heartburn ,  constipation , shaking (tremor), swelling  ankles /feet/hands, or  dizziness  may occur.':\n",
    "        data['Sides'].replace({'Nausea ,  heartburn ,  constipation , shaking (tremor), swelling  ankles /feet/hands, or  dizziness  may occur.':'Nausea etc.'},inplace=True)\n",
    "    elif side=='Pain at injection site, chills, tingling, flushing,  headache ,  nausea , or  vomiting  may occur.':\n",
    "        data['Sides'].replace({'Pain at injection site, chills, tingling, flushing,  headache ,  nausea , or  vomiting  may occur.':'Nausea etc.'},inplace=True)\n",
    "    elif side=='Nausea ,  stomach pain ,  diarrhea ,  constipation , or pain/redness at the injection site may occur.':\n",
    "        data['Sides'].replace({'Nausea ,  stomach pain ,  diarrhea ,  constipation , or pain/redness at the injection site may occur.':'Nausea etc.'},inplace=True)\n",
    "    elif side=='Nausea ,  vomiting ,  headache , runny/stuffy nose, nose/throat  itching , or watery  eyes  may occur.':\n",
    "        data['Sides'].replace({'Nausea ,  vomiting ,  headache , runny/stuffy nose, nose/throat  itching , or watery  eyes  may occur.':'Nausea etc.'},inplace=True)\n",
    "    elif side=='Nausea ,  vomiting ,  stomach / abdominal pain , or  joint pain  may occur.':\n",
    "        data['Sides'].replace({'Nausea ,  vomiting ,  stomach / abdominal pain , or  joint pain  may occur.':'Nausea etc.'},inplace=True)\n",
    "    elif side=='Diarrhea ,  constipation ,  abdominal pain / cramps ,  nausea ,  vomiting , gas, or  bloating  may occur.':\n",
    "        data['Sides'].replace({'Diarrhea ,  constipation ,  abdominal pain / cramps ,  nausea ,  vomiting , gas, or  bloating  may occur.':'Nausea etc.'},inplace=True)\n",
    "    elif side=='Tiredness,  weakness ,  nausea , or arm/leg/hand/ foot pain  may occur.':\n",
    "        data['Sides'].replace({'Tiredness,  weakness ,  nausea , or arm/leg/hand/ foot pain  may occur.':'Nausea etc.'},inplace=True)\n",
    "    elif side=='Nausea ,  headache , and  diarrhea  may occur.':\n",
    "        data['Sides'].replace({'Nausea ,  headache , and  diarrhea  may occur.':'Nausea etc.'},inplace=True)\n",
    "    elif side=='Coughing , stuffy nose,  sneezing ,  headache ,  nausea , or tearing may occur.':\n",
    "        data['Sides'].replace({'Coughing , stuffy nose,  sneezing ,  headache ,  nausea , or tearing may occur.':'Nausea etc.'},inplace=True)\n",
    "    elif side=='Nausea ,  upset stomach ,  abdominal pain , gas/ bloating ,  diarrhea ,  headache ,  back pain , arm/ leg pain ,  dizziness , or  weakness  may occur.':\n",
    "        data['Sides'].replace({'Nausea ,  upset stomach ,  abdominal pain , gas/ bloating ,  diarrhea ,  headache ,  back pain , arm/ leg pain ,  dizziness , or  weakness  may occur.':'Nausea etc.'},inplace=True)\n",
    "    elif side=='Constipation ,  nausea ,  headache ,  diarrhea ,  vomiting ,  stomach  upset, gas,  dizziness , drowsiness,  trouble sleeping , tremor, or redness/swelling at the injection site may occur.':\n",
    "        data['Sides'].replace({'Constipation ,  nausea ,  headache ,  diarrhea ,  vomiting ,  stomach  upset, gas,  dizziness , drowsiness,  trouble sleeping , tremor, or redness/swelling at the injection site may occur.':'Nausea etc.'},inplace=True)\n",
    "    elif side=='Diarrhea ,  constipation ,  nausea ,  vomiting , abdominal  cramps /pain, or  heartburn  may occur.':\n",
    "        data['Sides'].replace({'Diarrhea ,  constipation ,  nausea ,  vomiting , abdominal  cramps /pain, or  heartburn  may occur.':'Nausea etc.'},inplace=True)\n",
    "    elif side=='Nausea ,  headache ,  constipation , or pain/discomfort at the injection site may occur.':\n",
    "        data['Sides'].replace({'Nausea ,  headache ,  constipation , or pain/discomfort at the injection site may occur.':'Nausea etc.'},inplace=True)\n",
    "    elif side=='(See also How to Use section). Nausea ,  abdominal pain ,  diarrhea ,  vomiting , or flushing may occur.':\n",
    "        data['Sides'].replace({'(See also How to Use section). Nausea ,  abdominal pain ,  diarrhea ,  vomiting , or flushing may occur.':'Nausea etc.'},inplace=True)\n",
    "    elif side=='Diarrhea ,  nausea , or  heartburn  may occur.':\n",
    "        data['Sides'].replace({'Diarrhea ,  nausea , or  heartburn  may occur.':'Nausea etc.'},inplace=True)\n",
    "    elif side=='Temporary burning/stinging of the  eye , itchy/red  eyes ,  headache , or  dizziness  may occur.':\n",
    "        data['Sides'].replace({'Temporary burning/stinging of the  eye , itchy/red  eyes ,  headache , or  dizziness  may occur.':'Stinging of the eyes etc.'},inplace=True)\n",
    "    elif side=='Temporary stinging/discomfort of the  eye , watery/dry/itchy/red  eyes ,  blurred vision , feeling as if something is in the  eye ,  headache ,  trouble sleeping , or  dizziness  may occur.':\n",
    "        data['Sides'].replace({'Temporary stinging/discomfort of the  eye , watery/dry/itchy/red  eyes ,  blurred vision , feeling as if something is in the  eye ,  headache ,  trouble sleeping , or  dizziness  may occur.':'Stinging of the eyes etc.'},inplace=True)\n",
    "    elif side=='Stinging/burning of the  eyes  for 1 to 2 minutes and temporary  blurred vision  may occur when you apply this  medication . Watery  eyes  may also occur.':\n",
    "        data['Sides'].replace({'Stinging/burning of the  eyes  for 1 to 2 minutes and temporary  blurred vision  may occur when you apply this  medication . Watery  eyes  may also occur.':'Stinging of the eyes etc.'},inplace=True)\n",
    "    elif side=='Dizziness , decreased appetite, or  constipation  may occur.':\n",
    "        data['Sides'].replace({'Dizziness , decreased appetite, or  constipation  may occur.':'Dizziness, constipation etc.'},inplace=True)\n",
    "    elif side=='Drowsiness,  dizziness ,  headache , irritability,  stomach  upset,  vision  changes (e.g.,  blurred vision ), decreased coordination,  constipation , or  dry mouth /nose/throat may occur.':\n",
    "        data['Sides'].replace({'Drowsiness,  dizziness ,  headache , irritability,  stomach  upset,  vision  changes (e.g.,  blurred vision ), decreased coordination,  constipation , or  dry mouth /nose/throat may occur.':'Dizziness, constipation etc.'},inplace=True)\n",
    "    elif side=='Flushing of the face and neck along with warmth,  headache ,  itching , burning,  sweating , chills, or tingling may occur within 20 minutes of taking this  medication . Flushing may persist for a few hours after use.':\n",
    "        data['Sides'].replace({'Flushing of the face and neck along with warmth,  headache ,  itching , burning,  sweating , chills, or tingling may occur within 20 minutes of taking this  medication . Flushing may persist for a few hours after use.':'Flushing of the upper body etc.'},inplace=True)\n",
    "    elif side=='Flushing of the upper body may occur if this  medication  is injected too fast (\"red man syndrome\").':\n",
    "        data['Sides'].replace({'Flushing of the upper body may occur if this  medication  is injected too fast (\"red man syndrome\").':'Flushing of the upper body etc.'},inplace=True)\n",
    "    elif side=='The suspension may cause  headache ,  upset stomach , or  diarrhea . If any of these effects occur, tell your doctor or  pharmacist  promptly and discuss switching to other forms of  nitisinone .':\n",
    "        data['Sides'].replace({'The suspension may cause  headache ,  upset stomach , or  diarrhea . If any of these effects occur, tell your doctor or  pharmacist  promptly and discuss switching to other forms of  nitisinone .':'Headache, diarrhea etc.'},inplace=True)\n",
    "    elif side=='Diarrhea ,  headache ,  mouth  pain/sores,  runny nose , voice changes,  weight loss ,  weakness , tiredness, or darkening of the  skin  may occur.':\n",
    "        data['Sides'].replace({'Diarrhea ,  headache ,  mouth  pain/sores,  runny nose , voice changes,  weight loss ,  weakness , tiredness, or darkening of the  skin  may occur.':'Headache, diarrhea etc.'},inplace=True)\n",
    "    elif side=='Headache ,  diarrhea ,  runny nose ,  sore throat ,  joint / muscle pain , or  trouble sleeping  may occur.':\n",
    "        data['Sides'].replace({'Headache ,  diarrhea ,  runny nose ,  sore throat ,  joint / muscle pain , or  trouble sleeping  may occur.':'Headache, diarrhea etc.'},inplace=True)\n",
    "    elif side=='Temporary redness, stinging, or irritation at the application site may occur.':\n",
    "        data['Sides'].replace({'Temporary redness, stinging, or irritation at the application site may occur.':'Irritation at the application site may occur etc.'},inplace=True)\n",
    "    elif side=='Redness, mild  itching , or irritation at the application site may occur.':\n",
    "        data['Sides'].replace({'Redness, mild  itching , or irritation at the application site may occur.':'Irritation at the application site may occur etc.'},inplace=True)\n",
    "    elif side=='Burning, stinging, tingling,  rash ,  dry skin , or irritation at the application site may occur.':\n",
    "        data['Sides'].replace({'Burning, stinging, tingling,  rash ,  dry skin , or irritation at the application site may occur.':'Irritation at the application site may occur etc.'},inplace=True)\n",
    "    elif side=='Stuffy/ runny nose ,  cough ,  sore throat , or  sneezing  may occur.':\n",
    "        data['Sides'].replace({'Stuffy/ runny nose ,  cough ,  sore throat , or  sneezing  may occur.':'Stuffy nose etc.'},inplace=True)\n",
    "    elif side=='Dizziness ,  lightheadedness , drowsiness,  headache , stuffy nose, and  weakness  may occur as your body adjusts to the  medication . If any of these effects persist or worsen, tell your doctor or  pharmacist  promptly.':\n",
    "        data['Sides'].replace({'Dizziness ,  lightheadedness , drowsiness,  headache , stuffy nose, and  weakness  may occur as your body adjusts to the  medication . If any of these effects persist or worsen, tell your doctor or  pharmacist  promptly.':'Stuffy nose etc.'},inplace=True)\n",
    "    elif side=='Darkening  skin  or  dry mouth  may occur.':\n",
    "        data['Sides'].replace({'Darkening  skin  or  dry mouth  may occur.':'Discoloration of the  skin etc.'},inplace=True)\n",
    "    elif side=='Discoloration of the  skin  or pain, tenderness, or swelling along your veins may occur.':\n",
    "        data['Sides'].replace({'Discoloration of the  skin  or pain, tenderness, or swelling along your veins may occur.':'Discoloration of the  skin etc.'},inplace=True)\n",
    "    elif side=='Redness, swelling, or lightening of the  skin  may occur.':\n",
    "        data['Sides'].replace({'Redness, swelling, or lightening of the  skin  may occur.':'Discoloration of the  skin etc.'},inplace=True)\n",
    "    elif side=='Pain at the injection site  dizziness ,  lightheadedness ,  weakness ,  muscle cramps ,  upset stomach , or  diarrhea  may occur.':\n",
    "        data['Sides'].replace({'Pain at the injection site  dizziness ,  lightheadedness ,  weakness ,  muscle cramps ,  upset stomach , or  diarrhea  may occur.':'Pain at the injection site etc.'},inplace=True)\n",
    "    elif side=='Pain/redness/warmth/bruising/swelling at the injection site, tiredness, fever, or  headache  may occur.':\n",
    "        data['Sides'].replace({'Pain/redness/warmth/bruising/swelling at the injection site, tiredness, fever, or  headache  may occur.':'Pain at the injection site etc.'},inplace=True)\n",
    "    elif side=='Pain, bruising,  itching , redness, or swelling at the injection site may occur.':\n",
    "        data['Sides'].replace({'Pain, bruising,  itching , redness, or swelling at the injection site may occur.':'Pain at the injection site etc.'},inplace=True)\n",
    "    elif side=='Pain/redness/swelling at the injection site, limited arm movement, muscle ache,  headache , or tiredness may occur.':\n",
    "        data['Sides'].replace({'Pain/redness/swelling at the injection site, limited arm movement, muscle ache,  headache , or tiredness may occur.':'Pain at the injection site etc.'},inplace=True)\n",
    "    elif side=='Redness, pain, or tenderness at the injection site may occur.':\n",
    "        data['Sides'].replace({'Redness, pain, or tenderness at the injection site may occur.':'Pain at the injection site etc.'},inplace=True)\n",
    "    elif side=='Pain/swelling/redness at the injection site may occur.':\n",
    "        data['Sides'].replace({'Pain/swelling/redness at the injection site may occur.':'Pain at the injection site etc.'},inplace=True)\n",
    "    elif side=='Mild  skin  burning, redness, and peeling of the treated area may occur as expected.':\n",
    "        data['Sides'].replace({'Mild  skin  burning, redness, and peeling of the treated area may occur as expected.':'redness, and peeling of the skin etc.'},inplace=True)\n",
    "    elif side=='Skin  reactions such as peeling,  itching , irritation, and redness may occur, especially at the start of treatment.':\n",
    "        data['Sides'].replace({'Skin  reactions such as peeling,  itching , irritation, and redness may occur, especially at the start of treatment.':'redness, and peeling of the skin etc.'},inplace=True)\n",
    "    elif side=='Stomach  upset or  diarrhea  may occur.':\n",
    "        data['Sides'].replace({'Stomach  upset or  diarrhea  may occur.':'Stomach  upset,  diarrhea etc.'},inplace=True)\n",
    "    elif side=='Stomach  upset,  diarrhea , or  bloating  may occur.':\n",
    "        data['Sides'].replace({'Stomach  upset,  diarrhea , or  bloating  may occur.':'Stomach  upset,  diarrhea etc.'},inplace=True)\n",
    "    elif side=='Pain at the injection site,  dizziness ,  lightheadedness ,  weakness ,  muscle cramps ,  upset stomach , or  diarrhea  may occur.':\n",
    "        data['Sides'].replace({'Pain at the injection site,  dizziness ,  lightheadedness ,  weakness ,  muscle cramps ,  upset stomach , or  diarrhea  may occur.':'Stomach  upset,  diarrhea etc.'},inplace=True)       \n",
    "    elif side=='Irritation or redness of the  skin  may occur.':\n",
    "        data['Sides'].replace({'Irritation or redness of the  skin  may occur.':'Skin  redness etc.'},inplace=True)\n",
    "    elif side=='Skin  redness, peeling, oiliness, or dryness may occur.':\n",
    "        data['Sides'].replace({'Skin  redness, peeling, oiliness, or dryness may occur.':'Skin  redness etc.'},inplace=True)\n",
    "    elif side=='Irritation, redness, or pain at the injection site may occur.':\n",
    "        data['Sides'].replace({'Irritation, redness, or pain at the injection site may occur.':'Irritation at the injection site etc.'},inplace=True)\n",
    "    elif side=='Mild irritation at the injection site may occur.':\n",
    "        data['Sides'].replace({'Mild irritation at the injection site may occur.':'Irritation at the injection site etc.'},inplace=True)\n",
    "    elif side=='You may experience  dizziness ,  lightheadedness , and  blurred vision  as your body adjusts to the  medication .':\n",
    "        data['Sides'].replace({'You may experience  dizziness ,  lightheadedness , and  blurred vision  as your body adjusts to the  medication .':'Dizziness,  lightheadedness, blurred vision  as your body adjusts to the  medication etc .'},inplace=True)\n",
    "    elif side=='Drowsiness,  dizziness ,  lightheadedness , tiredness,  blurred vision , decreased sexual ability/interest,  nausea ,  constipation , and  dry mouth  may occur as your body adjusts to the  medication . If any of these effects persist or worsen, tell your doctor or  pharmacist  promptly.':\n",
    "        data['Sides'].replace({'Drowsiness,  dizziness ,  lightheadedness , tiredness,  blurred vision , decreased sexual ability/interest,  nausea ,  constipation , and  dry mouth  may occur as your body adjusts to the  medication . If any of these effects persist or worsen, tell your doctor or  pharmacist  promptly.':'Dizziness,  lightheadedness, blurred vision  as your body adjusts to the  medication etc .'},inplace=True)\n",
    "    elif side=='Swelling in your  ankles , feet, or hands may occur.':\n",
    "        data['Sides'].replace({'Swelling in your  ankles , feet, or hands may occur.':'Swelling hands/ ankles /feet etc.'},inplace=True)\n",
    "    elif side=='Dizziness  or light-headedness may occur as your body adjusts to the  medication . Dry  cough , swelling hands/ ankles /feet, flushing, or  nausea  may also occur.':\n",
    "        data['Sides'].replace({'Dizziness  or light-headedness may occur as your body adjusts to the  medication . Dry  cough , swelling hands/ ankles /feet, flushing, or  nausea  may also occur.':'Swelling hands/ ankles /feet etc.'},inplace=True)\n",
    "    elif side=='Tiredness,  mouth /throat pain, or fast/pounding heartbeat may occur.':\n",
    "        data['Sides'].replace({'Tiredness,  mouth /throat pain, or fast/pounding heartbeat may occur.':'Tiredness etc.'},inplace=True)\n",
    "    elif side=='Cough ,  stomach pain , or tiredness may occur.':\n",
    "        data['Sides'].replace({'Cough ,  stomach pain , or tiredness may occur.':'Tiredness etc.'},inplace=True)\n",
    "    elif side=='Headache , body aches,  diarrhea , or  vomiting  may occur.':\n",
    "        data['Sides'].replace({'Headache , body aches,  diarrhea , or  vomiting  may occur.':'Diarrhea etc.'},inplace=True)\n",
    "    elif side=='Diarrhea  is a common side effect.':\n",
    "        data['Sides'].replace({'Diarrhea  is a common side effect.':'Diarrhea etc.'},inplace=True)\n",
    "    elif side=='Chest soreness may occur.':\n",
    "        data['Sides'].replace({'Chest soreness may occur.':'Chest discomfort may occur etc.'},inplace=True)\n",
    "    elif side=='Cough , chest discomfort, or  headache  may occur.':\n",
    "        data['Sides'].replace({'Cough , chest discomfort, or  headache  may occur.':'Chest discomfort may occur etc.'},inplace=True)\n",
    "    elif side=='Fever or  dizziness  may occur.':\n",
    "        data['Sides'].replace({'Fever or  dizziness  may occur.':'Dizziness  may occur etc.'},inplace=True)\n",
    "    elif side=='Tiredness, slow heartbeat,  dizziness , or  lightheadedness  may occur.':\n",
    "        data['Sides'].replace({'Tiredness, slow heartbeat,  dizziness , or  lightheadedness  may occur.':'Dizziness  may occur etc.'},inplace=True)\n",
    "    elif side=='This  medication  is expected to increase urination.':\n",
    "        data['Sides'].replace({'This  medication  is expected to increase urination.':'Associated with urination sometimes with blood etc.'},inplace=True)\n",
    "    elif side=='Bladder  irritation (e.g., difficult/painful/frequent/bloody urination), fever, or chills may occur.':\n",
    "        data['Sides'].replace({'Bladder  irritation (e.g., difficult/painful/frequent/bloody urination), fever, or chills may occur.':'Associated with urination sometimes with blood etc.'},inplace=True)\n",
    "    elif side=='Burning,  itching , irritation, dryness,  rash ,  skin  thinning/streaks may occur.':\n",
    "        data['Sides'].replace({'Burning,  itching , irritation, dryness,  rash ,  skin  thinning/streaks may occur.':'Dry, itchy skin etc.'},inplace=True)\n",
    "    elif side=='Dizziness ,  diarrhea ,  nausea / vomiting ,  stomach pain , dry/ itchy skin ,  acne , and  dry mouth  may occur.':\n",
    "        data['Sides'].replace({'Dizziness ,  diarrhea ,  nausea / vomiting ,  stomach pain , dry/ itchy skin ,  acne , and  dry mouth  may occur.':'Dry, itchy skin etc.'},inplace=True)\n",
    "    elif side=='Some  sunscreen  products (e.g., those containing  aminobenzoic acid  or para-aminobenzoic acid/PABA) may stain clothing.':\n",
    "        data['Sides'].replace({'Some  sunscreen  products (e.g., those containing  aminobenzoic acid  or para-aminobenzoic acid/PABA) may stain clothing.':'See the Warnings section or may stain clothing.'},inplace=True)\n",
    "    elif side=='Also see the Warnings section.':\n",
    "        data['Sides'].replace({'Also see the Warnings section.':'See the Warnings section or may stain clothing.'},inplace=True)"
   ]
  },
  {
   "cell_type": "code",
   "execution_count": null,
   "id": "f551aa45",
   "metadata": {},
   "outputs": [],
   "source": [
    "# display side effects of medicine is mentioned only once in the dataframe\n",
    "data[data['Sides'].isin(data['Sides'].value_counts()[data['Sides'].value_counts()<2].index)]"
   ]
  },
  {
   "cell_type": "markdown",
   "id": "957d7b1a",
   "metadata": {},
   "source": [
    "~ No side effects of medicine which is mentioned only once in the dataframe"
   ]
  },
  {
   "cell_type": "code",
   "execution_count": null,
   "id": "321f1382",
   "metadata": {},
   "outputs": [],
   "source": [
    "# count of unique values\n",
    "data['Sides'].nunique()"
   ]
  },
  {
   "cell_type": "code",
   "execution_count": null,
   "id": "79cb9eb0",
   "metadata": {},
   "outputs": [],
   "source": [
    "# count of null values\n",
    "data.isnull().sum()"
   ]
  },
  {
   "cell_type": "code",
   "execution_count": null,
   "id": "e3856507",
   "metadata": {},
   "outputs": [],
   "source": [
    "# filtering out categorical features and displaying it\n",
    "categorical_features = [feature for feature in data.columns if data[feature].dtypes == 'O']\n",
    "categorical_features"
   ]
  },
  {
   "cell_type": "code",
   "execution_count": null,
   "id": "b493b7eb",
   "metadata": {},
   "outputs": [],
   "source": [
    "# filtering out numerical features and displaying it\n",
    "numerical_features = [feature for feature in data.columns if data[feature].dtypes != 'O']\n",
    "numerical_features"
   ]
  },
  {
   "cell_type": "code",
   "execution_count": null,
   "id": "1697369f",
   "metadata": {},
   "outputs": [],
   "source": [
    "# filtering out date features and displaying it\n",
    "date_features = [feature for feature in numerical_features if 'Date' in feature or 'Year' in feature]\n",
    "date_features "
   ]
  },
  {
   "cell_type": "code",
   "execution_count": null,
   "id": "71c54ed9",
   "metadata": {},
   "outputs": [],
   "source": [
    "# displaying unique values in numerical features\n",
    "for i in numerical_features:\n",
    "    print(f\"{i} column \\n\")    \n",
    "    nuni = data[i].nunique()\n",
    "    print(f\"Count of unique values = {nuni}\\n\")    \n",
    "    uni = data[i].unique()\n",
    "    print(f\"Unique values = {uni}\\n\\n\\n\")    "
   ]
  },
  {
   "cell_type": "code",
   "execution_count": null,
   "id": "2663b3a3",
   "metadata": {},
   "outputs": [],
   "source": [
    "# filtering out discrete numerical features and displaying it\n",
    "discrete_numerical_features = [feature for feature in numerical_features if len(data[feature].unique()) > 7 and feature not in date_features+['DrugId']]\n",
    "discrete_numerical_features"
   ]
  },
  {
   "cell_type": "code",
   "execution_count": null,
   "id": "42383437",
   "metadata": {},
   "outputs": [],
   "source": [
    "# filtering out continuous numerical features and displaying it\n",
    "continuous_numerical_features = [feature for feature in numerical_features if feature not in discrete_numerical_features and feature not in date_features+['DrugId']]\n",
    "continuous_numerical_features"
   ]
  },
  {
   "cell_type": "markdown",
   "id": "8c7300b9",
   "metadata": {},
   "source": [
    "## OUTLIERS IN CONTINUOUS NUMERICAL FEATURE"
   ]
  },
  {
   "cell_type": "code",
   "execution_count": null,
   "id": "112923f4",
   "metadata": {},
   "outputs": [],
   "source": [
    "# boxplot of outliers in continuous numerical features\n",
    "for i in continuous_numerical_features:\n",
    "    \n",
    "    # boxplot of columns\n",
    "    plt.boxplot(data[i])\n",
    "    text = \"Boxplot of\"\n",
    "    \n",
    "    # display title\n",
    "    plt.title(text+\" \"+i)\n",
    "    plt.show()"
   ]
  },
  {
   "cell_type": "markdown",
   "id": "420b7629",
   "metadata": {},
   "source": [
    "~ From the above boxplot, outliers are not present for any of the columns."
   ]
  },
  {
   "cell_type": "markdown",
   "id": "86306f44",
   "metadata": {},
   "source": [
    "## CORRELATION"
   ]
  },
  {
   "cell_type": "code",
   "execution_count": null,
   "id": "0cfc9e6f",
   "metadata": {},
   "outputs": [],
   "source": [
    "# Correlation performed on numerical features\n",
    "P = data[numerical_features]"
   ]
  },
  {
   "cell_type": "code",
   "execution_count": null,
   "id": "4b557b68",
   "metadata": {},
   "outputs": [],
   "source": [
    "# creating an instance for correlation\n",
    "corrmatrix = round(P.corr(), 2)\n",
    "\n",
    "# displaying the values of 'corrmatrix'\n",
    "corrmatrix"
   ]
  },
  {
   "cell_type": "code",
   "execution_count": null,
   "id": "04012a47",
   "metadata": {},
   "outputs": [],
   "source": [
    "# display information about the data\n",
    "data.info()"
   ]
  },
  {
   "cell_type": "code",
   "execution_count": null,
   "id": "674f55e8",
   "metadata": {},
   "outputs": [],
   "source": [
    "# display column names\n",
    "data.columns"
   ]
  },
  {
   "cell_type": "code",
   "execution_count": null,
   "id": "fc8ab69d",
   "metadata": {},
   "outputs": [],
   "source": [
    "# percentage of different classes in the 'Sides' column\n",
    "data['Sides'].value_counts(normalize=True)"
   ]
  },
  {
   "cell_type": "markdown",
   "id": "76ff7ef4",
   "metadata": {},
   "source": [
    "~ Imbalanced dataset"
   ]
  },
  {
   "cell_type": "markdown",
   "id": "b5fa7764",
   "metadata": {},
   "source": [
    "~ Features: 'Age', 'Condition', 'Drug', 'EaseofUse', 'Effectiveness', 'Reviews', 'Satisfaction', 'Sex', 'UsefulCount', 'Year' columns\n",
    "\n",
    "~ Target: 'Sides' columns\n"
   ]
  },
  {
   "cell_type": "code",
   "execution_count": null,
   "id": "551e73a5",
   "metadata": {},
   "outputs": [],
   "source": [
    "# put target and remaining columns not considered as features into  separate columns\n",
    "target = data.pop('Sides')\n",
    "rem1 = data.pop('Date')\n",
    "rem2 = data.pop('DrugId')\n",
    "\n",
    "# display first 5 rows\n",
    "data.head()"
   ]
  },
  {
   "cell_type": "code",
   "execution_count": null,
   "id": "e6f0fbb9",
   "metadata": {},
   "outputs": [],
   "source": [
    "# making a copy of the dataframe\n",
    "\n",
    "# features\n",
    "X = data.copy()\n",
    "\n",
    "# target\n",
    "y = target.copy()"
   ]
  },
  {
   "cell_type": "markdown",
   "id": "4ef0164d",
   "metadata": {},
   "source": [
    "## ENCODING\n",
    "\n",
    "~ encoding columns 'Age', 'Condition', 'Drug', 'Reviews', 'Sex', 'Year', 'Sides'\n"
   ]
  },
  {
   "cell_type": "code",
   "execution_count": null,
   "id": "2d708dba",
   "metadata": {},
   "outputs": [],
   "source": [
    "# converting categorical data to numeric\n",
    "\n",
    "X['Age'] = pd.factorize(X['Age'])[0]\n",
    "X['Condition'] = pd.factorize(X['Condition'])[0]\n",
    "X['Drug'] = pd.factorize(X['Drug'])[0]\n",
    "X['Reviews'] = pd.factorize(X['Reviews'])[0]\n",
    "X['Sex'] = pd.factorize(X['Sex'])[0]\n",
    "X['Year'] = pd.factorize(X['Year'])[0]\n",
    "\n",
    "y = pd.factorize(y)[0]\n",
    "\n",
    "# display first 5 rows of the dataframe\n",
    "X.head()"
   ]
  },
  {
   "cell_type": "code",
   "execution_count": null,
   "id": "7a6dedf7",
   "metadata": {},
   "outputs": [],
   "source": [
    "# display\n",
    "y"
   ]
  },
  {
   "cell_type": "code",
   "execution_count": null,
   "id": "62a07e9b",
   "metadata": {},
   "outputs": [],
   "source": [
    "# summarize observations by class label\n",
    "counter = Counter(y)\n",
    "print(counter)"
   ]
  },
  {
   "cell_type": "markdown",
   "id": "d844e09e",
   "metadata": {},
   "source": [
    "## SCALING"
   ]
  },
  {
   "cell_type": "markdown",
   "id": "b3a359c3",
   "metadata": {},
   "source": [
    "**1) standard scaler**"
   ]
  },
  {
   "cell_type": "code",
   "execution_count": null,
   "id": "ed218dc9",
   "metadata": {},
   "outputs": [],
   "source": [
    "# scaling features\n",
    "stdscaler = StandardScaler()\n",
    "X1 = stdscaler.fit_transform(X)"
   ]
  },
  {
   "cell_type": "code",
   "execution_count": null,
   "id": "2ce986d2",
   "metadata": {},
   "outputs": [],
   "source": [
    "# display\n",
    "X1"
   ]
  },
  {
   "cell_type": "code",
   "execution_count": null,
   "id": "0027b70c",
   "metadata": {},
   "outputs": [],
   "source": [
    "# converting it to a dataframe\n",
    "X1 = pd.DataFrame(X1, columns=['Age', 'Condition', 'Drug', 'EaseofUse', 'Effectiveness', 'Reviews', 'Satisfaction', 'Sex', 'UsefulCount', 'Year'])"
   ]
  },
  {
   "cell_type": "code",
   "execution_count": null,
   "id": "b781ed91",
   "metadata": {},
   "outputs": [],
   "source": [
    "# display first 5 rows of features\n",
    "X1.head()"
   ]
  },
  {
   "cell_type": "code",
   "execution_count": null,
   "id": "bc979c75",
   "metadata": {},
   "outputs": [],
   "source": [
    "# target\n",
    "y"
   ]
  },
  {
   "cell_type": "markdown",
   "id": "e9e945e1",
   "metadata": {},
   "source": [
    "## SPLITTING THE DATASET INTO TRAINING AND TESTING"
   ]
  },
  {
   "cell_type": "code",
   "execution_count": null,
   "id": "9a6c8c93",
   "metadata": {},
   "outputs": [],
   "source": [
    "# splitting the data into testing and training\n",
    "X_train, X_test, y_train, y_test = train_test_split(X1, y, test_size=0.25, random_state=42, stratify = y)"
   ]
  },
  {
   "cell_type": "code",
   "execution_count": null,
   "id": "86e610eb",
   "metadata": {},
   "outputs": [],
   "source": [
    "# taking a variable skfold_validator and specifying the number of splits = 2 \n",
    "skfold_validator = StratifiedKFold(n_splits=2)"
   ]
  },
  {
   "cell_type": "markdown",
   "id": "77f5cc10",
   "metadata": {},
   "source": [
    "## STRATIFIED K-FOLD CROSS VALIDATION"
   ]
  },
  {
   "cell_type": "code",
   "execution_count": null,
   "id": "7e1467d8",
   "metadata": {},
   "outputs": [],
   "source": [
    "# check which all index are given for training and testing\n",
    "for train_index, test_index in skfold_validator.split(X1,y):\n",
    "# skfold_validator.split(X,y) - using skfold_validator splitting X and y\n",
    "    print('Training Index:', train_index)\n",
    "    print('Testing Index:', test_index)\n",
    "    # X_train1, X_test1 = X1[train_index], X1[test_index]\n",
    "    # y_train, y_test = y[train_index], y[test_index]"
   ]
  },
  {
   "cell_type": "code",
   "execution_count": null,
   "id": "c0bdf625",
   "metadata": {},
   "outputs": [],
   "source": [
    "# count of rows and columns in training data\n",
    "X_train.shape, y_train.shape"
   ]
  },
  {
   "cell_type": "code",
   "execution_count": null,
   "id": "e74f8053",
   "metadata": {},
   "outputs": [],
   "source": [
    "# count of rows and columns in testing data\n",
    "X_test.shape, y_test.shape"
   ]
  },
  {
   "cell_type": "code",
   "execution_count": null,
   "id": "fbc678de",
   "metadata": {},
   "outputs": [],
   "source": [
    "# function to print average accuracy score across the two folds, and the standard deviation of the accuracy score \n",
    "def print_results(results):\n",
    "    print('BEST PARAMS: {}\\n'.format(results.best_params_))\n",
    "\n",
    "    means = results.cv_results_['mean_test_score']\n",
    "    stds = results.cv_results_['std_test_score']\n",
    "    \n",
    "    for mean, std, params in zip(means, stds, results.cv_results_['params']):\n",
    "        print('{} (+/-{}) for {}'.format(round(mean, 3), round(std * 2, 3), params))\n",
    "        "
   ]
  },
  {
   "cell_type": "markdown",
   "id": "a5cedcc1",
   "metadata": {},
   "source": [
    "## MODEL"
   ]
  },
  {
   "cell_type": "markdown",
   "id": "92146471",
   "metadata": {},
   "source": [
    "### Decision Tree"
   ]
  },
  {
   "cell_type": "code",
   "execution_count": null,
   "id": "f53c6265",
   "metadata": {},
   "outputs": [],
   "source": [
    "# creating an instance for decision tree classifier\n",
    "dec_tree = DecisionTreeClassifier(random_state=42) "
   ]
  },
  {
   "cell_type": "code",
   "execution_count": null,
   "id": "7993f085",
   "metadata": {},
   "outputs": [],
   "source": [
    "# creating model using training data \n",
    "dec_model = dec_tree.fit(X_train, y_train)"
   ]
  },
  {
   "cell_type": "markdown",
   "id": "20d0a1fa",
   "metadata": {},
   "source": [
    "**STRATIFIED K FOLD CROSS VALIDATION**"
   ]
  },
  {
   "cell_type": "code",
   "execution_count": null,
   "id": "1977a509",
   "metadata": {},
   "outputs": [],
   "source": [
    "# calculate cross validation score of the training dataset\n",
    "\n",
    "# calculate cross validation score\n",
    "cv_decresult = cross_val_score(dec_model, X_train, y_train, cv=skfold_validator)\n",
    "\n",
    "# display cross validation score of each folds\n",
    "print(\"Cross validation score of each fold: \", cv_decresult)\n",
    "\n",
    "# display mean of cross validation score\n",
    "print(\"Mean of cross validation score across 2 folds: \", np.mean(cv_decresult))"
   ]
  },
  {
   "cell_type": "code",
   "execution_count": null,
   "id": "a3dbfcb4",
   "metadata": {},
   "outputs": [],
   "source": [
    "# calculate cross validation score of the entire dataset\n",
    "\n",
    "# calculate cross validation score\n",
    "cv_decresult = cross_val_score(dec_model, X1, y, cv=skfold_validator)\n",
    "\n",
    "# display cross validation score of each folds\n",
    "print(\"Cross validation score of each fold: \", cv_decresult)\n",
    "\n",
    "# display mean of cross validation score\n",
    "print(\"Mean of cross validation score across 2 folds: \", np.mean(cv_decresult))"
   ]
  },
  {
   "cell_type": "markdown",
   "id": "4916e7ae",
   "metadata": {},
   "source": [
    "**TUNING DECISION TREE**"
   ]
  },
  {
   "cell_type": "code",
   "execution_count": null,
   "id": "a7d6b7b3",
   "metadata": {},
   "outputs": [],
   "source": [
    "# defining parameter range\n",
    "param_grid = {'max_depth': [None, 1, 2, 3, 4, 5, 6, 7, 8, 9, 10, 11, 12, 13, 14, 15, 16, 17, 18, 19, 20],\n",
    "            'min_samples_leaf': [1, 5, 10, 20, 50, 100],\n",
    "            'criterion': [\"gini\", \"entropy\"]} "
   ]
  },
  {
   "cell_type": "code",
   "execution_count": null,
   "id": "0c49d08b",
   "metadata": {},
   "outputs": [],
   "source": [
    "# Create a GridSearchCV object\n",
    "grid = GridSearchCV(dec_tree, param_grid, refit = True, verbose = 3, n_jobs=-1, cv=skfold_validator)"
   ]
  },
  {
   "cell_type": "code",
   "execution_count": null,
   "id": "96eaa28f",
   "metadata": {},
   "outputs": [],
   "source": [
    "# fitting the training data\n",
    "grid.fit(X_train, y_train)"
   ]
  },
  {
   "cell_type": "code",
   "execution_count": null,
   "id": "1b37b771",
   "metadata": {},
   "outputs": [],
   "source": [
    "# calling function\n",
    "print_results(grid)"
   ]
  },
  {
   "cell_type": "markdown",
   "id": "047f6cf2",
   "metadata": {},
   "source": [
    "**MODEL EVALUATION**\n",
    "\n",
    "**Fit best models on full training set**\n",
    "\n",
    "Accuracy scores of top few models\n",
    "*********\n",
    "0.978 (+/-0.001) for {'criterion': 'entropy', 'max_depth': None, 'min_samples_leaf': 1}\n",
    "\n",
    "0.978 (+/-0.001) for {'criterion': 'entropy', 'max_depth': 19, 'min_samples_leaf': 1}\n",
    "\n",
    "0.978 (+/-0.001) for {'criterion': 'entropy', 'max_depth': 20, 'min_samples_leaf': 1}\n",
    "\n",
    "0.977 (+/-0.001) for {'criterion': 'entropy', 'max_depth': 16, 'min_samples_leaf': 1}\n",
    "\n",
    "0.977 (+/-0.001) for {'criterion': 'entropy', 'max_depth': 17, 'min_samples_leaf': 1}\n",
    "\n",
    "0.977 (+/-0.001) for {'criterion': 'entropy', 'max_depth': 18, 'min_samples_leaf': 1}\n",
    "\n",
    "0.976 (+/-0.001) for {'criterion': 'entropy', 'max_depth': 15, 'min_samples_leaf': 1}"
   ]
  },
  {
   "cell_type": "code",
   "execution_count": null,
   "id": "f8e9f825",
   "metadata": {},
   "outputs": [],
   "source": [
    "# create instances of top few models and fit the training data\n",
    "dectree_model1 = DecisionTreeClassifier(max_depth = None, min_samples_leaf = 1, criterion = 'entropy', random_state=42).fit(X_train, y_train)\n",
    "dectree_model2 = DecisionTreeClassifier(max_depth = 19, min_samples_leaf = 1, criterion = 'entropy', random_state=42).fit(X_train, y_train)\n",
    "dectree_model3 = DecisionTreeClassifier(max_depth = 20, min_samples_leaf = 1, criterion = 'entropy', random_state=42).fit(X_train, y_train)\n",
    "dectree_model4 = DecisionTreeClassifier(max_depth = 16, min_samples_leaf = 1, criterion = 'entropy', random_state=42).fit(X_train, y_train)\n",
    "dectree_model5 = DecisionTreeClassifier(max_depth = 17, min_samples_leaf = 1, criterion = 'entropy', random_state=42).fit(X_train, y_train)\n",
    "dectree_model6 = DecisionTreeClassifier(max_depth = 18, min_samples_leaf = 1, criterion = 'entropy', random_state=42).fit(X_train, y_train)\n",
    "dectree_model7 = DecisionTreeClassifier(max_depth = 15, min_samples_leaf = 1, criterion = 'entropy', random_state=42).fit(X_train, y_train)"
   ]
  },
  {
   "cell_type": "code",
   "execution_count": null,
   "id": "06a4a83a",
   "metadata": {},
   "outputs": [],
   "source": [
    "# finding accuracy, precision, recall of top few models\n",
    "for mdl in [dectree_model1, dectree_model2, dectree_model3, dectree_model4, dectree_model5, dectree_model6, dectree_model7]:\n",
    "    y_pred = mdl.predict(X_test) \n",
    "    accuracy = round(accuracy_score(y_test, y_pred), 3)\n",
    "    precision = round(precision_score(y_test, y_pred, average = 'micro'), 3)\n",
    "    recall = round(recall_score(y_test, y_pred, average = 'micro'), 3)\n",
    "    print('max_depth: {} / min_samples_leaf: {} / criterion: {} -- A: {} / P: {} / R: {}'.format(mdl.max_depth, mdl.min_samples_leaf, mdl.criterion, accuracy, precision, recall))"
   ]
  },
  {
   "cell_type": "code",
   "execution_count": null,
   "id": "7a76e530",
   "metadata": {},
   "outputs": [],
   "source": [
    "# best model prediction\n",
    "\n",
    "# create instance and fit the training data\n",
    "dectree_best = DecisionTreeClassifier(max_depth = None, min_samples_leaf = 1, criterion = 'entropy', random_state=42)\n",
    "dectree_bestmodel = dectree_best.fit(X_train, y_train)\n",
    "\n",
    "# Make predictions\n",
    "y_predict_tree = {\n",
    "    \"train\": dectree_bestmodel.predict(X_train),\n",
    "    \"test\": dectree_bestmodel.predict(X_test),\n",
    "}\n",
    "    \n",
    "# Create train and test scores\n",
    "scores_base = {\n",
    "    \"train\": accuracy_score(y_train, y_predict_tree[\"train\"]),\n",
    "    \"test\": accuracy_score(y_test, y_predict_tree[\"test\"]),\n",
    "}\n",
    "hamming = hamming_loss(y_test, y_predict_tree[\"test\"])\n",
    "\n",
    "print(f\" Accuracy score of training data: {scores_base['train']*100}%\")\n",
    "print(f\"Accuracy score of test data: {scores_base['test']*100}%\")\n",
    "print(f\"Incorrect predictions of test data: {hamming*100}%\")"
   ]
  },
  {
   "cell_type": "code",
   "execution_count": null,
   "id": "1bd6e4d6",
   "metadata": {},
   "outputs": [],
   "source": [
    "# feature importance\n",
    "dec_features_tree = pd.DataFrame({\"feature_name\": X_train.columns, \"importance\": dectree_bestmodel.feature_importances_})\n",
    "dec_features_tree.sort_values(by=[\"importance\"], ascending=False, inplace=True)\n",
    "\n",
    "# display feature importance\n",
    "print(dec_features_tree.head())"
   ]
  },
  {
   "cell_type": "code",
   "execution_count": null,
   "id": "f98260d6",
   "metadata": {},
   "outputs": [],
   "source": [
    "# display classification report\n",
    "print(classification_report(y_test, y_predict_tree[\"test\"], zero_division=1))"
   ]
  },
  {
   "cell_type": "code",
   "execution_count": null,
   "id": "b9dad676",
   "metadata": {},
   "outputs": [],
   "source": [
    "# save the model\n",
    "filename = 'savedmodel.sav'\n",
    "\n",
    "# save the model using pickle\n",
    "pickle.dump(dectree_best, open(filename, 'wb'))\n",
    "# wb-write binary"
   ]
  }
 ],
 "metadata": {
  "kernelspec": {
   "display_name": "Python 3 (ipykernel)",
   "language": "python",
   "name": "python3"
  },
  "language_info": {
   "codemirror_mode": {
    "name": "ipython",
    "version": 3
   },
   "file_extension": ".py",
   "mimetype": "text/x-python",
   "name": "python",
   "nbconvert_exporter": "python",
   "pygments_lexer": "ipython3",
   "version": "3.10.9"
  }
 },
 "nbformat": 4,
 "nbformat_minor": 5
}
